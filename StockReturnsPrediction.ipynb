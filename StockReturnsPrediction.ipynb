{
 "cells": [
  {
   "cell_type": "markdown",
   "metadata": {},
   "source": [
    "# Case Study 2 : Data Science in Financial Data"
   ]
  },
  {
   "cell_type": "markdown",
   "metadata": {},
   "source": [
    "**Recommended Readings:** \n",
    "* [Quantopian Tutorials](https://www.quantopian.com/tutorials/) \n",
    "* Please register an account in [Quantopian online notebook system](https://www.quantopian.com/notebooks/).\n",
    "* Upload this file into the system and start working on your idea.\n",
    "\n",
    "\n",
    "**NOTE**\n",
    "* Please download your code (notebook file as an ipynb file) and include it in your submission.\n"
   ]
  },
  {
   "cell_type": "markdown",
   "metadata": {},
   "source": [
    "# Problem: pick a data science problem that you plan to solve using Stock Price Data\n",
    "* The problem should be important and interesting, which has a potential impact in some area.\n",
    "* The problem should be solvable using the data available and data science solutions.\n",
    "\n",
    "Please briefly describe in the following cell: what problem are you trying to solve? why this problem is important and interesting?"
   ]
  },
  {
   "cell_type": "markdown",
   "metadata": {},
   "source": [
    "Hedge funds often operate on a fundamental principle: Higher the risk, higher the reward.\n",
    "\n",
    "It basically translates to higher returns on high risk equities and securities. \n",
    "Hedge fund managers make money for their investors by investing on riskier equities trading through stocks or options. \n",
    "By doing so, they are raising the potential for total losses for the investor.\n"
   ]
  },
  {
   "cell_type": "markdown",
   "metadata": {},
   "source": [
    "# Data Collection/Processing: "
   ]
  },
  {
   "cell_type": "code",
   "execution_count": 106,
   "metadata": {},
   "outputs": [],
   "source": [
    "import numpy as np\n",
    "import pandas as pd\n",
    "import matplotlib.pyplot as plt\n",
    "import datetime\n",
    "from quantopian.pipeline import Pipeline\n",
    "from quantopian.pipeline.data import EquityPricing\n",
    "from quantopian.pipeline.domain import US_EQUITIES\n",
    "from quantopian.pipeline.data import morningstar\n",
    "#from quantopian.pipeline.data.sentdex import sentiment\n",
    "from quantopian.research import run_pipeline,returns, symbols, get_pricing\n",
    "#from quantopian.pipeline.data.psychsignal import twitter_withretweets as twitter_sentiment\n",
    "from quantopian.pipeline.factors import SimpleMovingAverage, DailyReturns\n",
    "from quantopian.pipeline.filters.morningstar import Q1500US"
   ]
  },
  {
   "cell_type": "markdown",
   "metadata": {},
   "source": [
    "Create and Run a Pipeline that will contain factors such as estimated_growth_factor, PE_ratio, mean_sentiment_5day and positive_sentiment_pct."
   ]
  },
  {
   "cell_type": "code",
   "execution_count": 107,
   "metadata": {},
   "outputs": [
    {
     "data": {
      "application/vnd.jupyter.widget-view+json": {
       "model_id": "",
       "version_major": 2,
       "version_minor": 0
      },
      "text/plain": []
     },
     "metadata": {},
     "output_type": "display_data"
    },
    {
     "data": {
      "text/html": [
       "<b>Pipeline Execution Time:</b> 0.89 Seconds"
      ],
      "text/plain": [
       "<IPython.core.display.HTML object>"
      ]
     },
     "metadata": {},
     "output_type": "display_data"
    },
    {
     "name": "stdout",
     "output_type": "stream",
     "text": [
      "Result contains 1491 rows of output.\n"
     ]
    },
    {
     "data": {
      "text/html": [
       "<div>\n",
       "<table border=\"1\" class=\"dataframe\">\n",
       "  <thead>\n",
       "    <tr style=\"text-align: right;\">\n",
       "      <th></th>\n",
       "      <th></th>\n",
       "      <th>big_business</th>\n",
       "      <th>market_cap</th>\n",
       "      <th>norm_eps</th>\n",
       "      <th>open_price</th>\n",
       "      <th>pe_ratio</th>\n",
       "      <th>peg_ratio</th>\n",
       "    </tr>\n",
       "  </thead>\n",
       "  <tbody>\n",
       "    <tr>\n",
       "      <th rowspan=\"5\" valign=\"top\">2020-10-21 00:00:00+00:00</th>\n",
       "      <th>Equity(2 [HWM])</th>\n",
       "      <td>True</td>\n",
       "      <td>7.946498e+09</td>\n",
       "      <td>-0.109330</td>\n",
       "      <td>18.76</td>\n",
       "      <td>14.124031</td>\n",
       "      <td>0.5640</td>\n",
       "    </tr>\n",
       "    <tr>\n",
       "      <th>Equity(24 [AAPL])</th>\n",
       "      <td>False</td>\n",
       "      <td>2.009719e+12</td>\n",
       "      <td>0.652500</td>\n",
       "      <td>116.20</td>\n",
       "      <td>35.636088</td>\n",
       "      <td>2.9013</td>\n",
       "    </tr>\n",
       "    <tr>\n",
       "      <th>Equity(53 [ABMD])</th>\n",
       "      <td>True</td>\n",
       "      <td>1.250197e+10</td>\n",
       "      <td>0.951124</td>\n",
       "      <td>283.35</td>\n",
       "      <td>79.750000</td>\n",
       "      <td>1.3815</td>\n",
       "    </tr>\n",
       "    <tr>\n",
       "      <th>Equity(62 [ABT])</th>\n",
       "      <td>True</td>\n",
       "      <td>1.918546e+11</td>\n",
       "      <td>0.299588</td>\n",
       "      <td>108.35</td>\n",
       "      <td>63.000000</td>\n",
       "      <td>3.4446</td>\n",
       "    </tr>\n",
       "    <tr>\n",
       "      <th>Equity(67 [ADSK])</th>\n",
       "      <td>True</td>\n",
       "      <td>5.642930e+10</td>\n",
       "      <td>0.483339</td>\n",
       "      <td>261.41</td>\n",
       "      <td>157.877301</td>\n",
       "      <td>1.4807</td>\n",
       "    </tr>\n",
       "  </tbody>\n",
       "</table>\n",
       "</div>"
      ],
      "text/plain": [
       "                                            big_business    market_cap  \\\n",
       "2020-10-21 00:00:00+00:00 Equity(2 [HWM])           True  7.946498e+09   \n",
       "                          Equity(24 [AAPL])        False  2.009719e+12   \n",
       "                          Equity(53 [ABMD])         True  1.250197e+10   \n",
       "                          Equity(62 [ABT])          True  1.918546e+11   \n",
       "                          Equity(67 [ADSK])         True  5.642930e+10   \n",
       "\n",
       "                                             norm_eps  open_price    pe_ratio  \\\n",
       "2020-10-21 00:00:00+00:00 Equity(2 [HWM])   -0.109330       18.76   14.124031   \n",
       "                          Equity(24 [AAPL])  0.652500      116.20   35.636088   \n",
       "                          Equity(53 [ABMD])  0.951124      283.35   79.750000   \n",
       "                          Equity(62 [ABT])   0.299588      108.35   63.000000   \n",
       "                          Equity(67 [ADSK])  0.483339      261.41  157.877301   \n",
       "\n",
       "                                             peg_ratio  \n",
       "2020-10-21 00:00:00+00:00 Equity(2 [HWM])       0.5640  \n",
       "                          Equity(24 [AAPL])     2.9013  \n",
       "                          Equity(53 [ABMD])     1.3815  \n",
       "                          Equity(62 [ABT])      3.4446  \n",
       "                          Equity(67 [ADSK])     1.4807  "
      ]
     },
     "execution_count": 107,
     "metadata": {},
     "output_type": "execute_result"
    }
   ],
   "source": [
    "#Creating and running the pipeline that contains some of the crucial factors.\n",
    "billion = 1000000000\n",
    "#setting the universe\n",
    "universe = Q1500US()\n",
    "\n",
    "# Construct a factor that simply gets the price value.\n",
    "\n",
    "# Get the latest daily price for all equities.\n",
    "price = EquityPricing.open.latest\n",
    "\n",
    "#Calculating the market capital\n",
    "market_cap= morningstar.valuation.market_cap.latest\n",
    "\n",
    "#Getting the Earnings per share\n",
    "norm_eps = morningstar.earnings_report.normalized_basic_eps.latest\n",
    "\n",
    "#get the P/E ratio\n",
    "pe_ratio = morningstar.valuation_ratios.pe_ratio.latest \n",
    "\n",
    "#get the PEG (Price/ Earnings Growth) ratio\n",
    "peg_ratio = morningstar.valuation_ratios.peg_ratio.latest \n",
    "\n",
    "# Define a 5-day simple moving average sentiment factor.\n",
    "#mean_sentiment_5day = SimpleMovingAverage(inputs=[sentiment.sentiment_signal], window_length=5)\n",
    "\n",
    "# Define a positive sentiment percent factor, dividing the number of bull\n",
    "# scored messages by the total number of scanned messages for the equity.\n",
    "#positive_sentiment_pct = (\n",
    "#    twitter_sentiment.bull_scored_messages.latest\n",
    "#    / twitter_sentiment.total_scanned_messages.latest\n",
    "#)\n",
    "\n",
    "\n",
    "# Add the factor to the pipeline.\n",
    "pipe = Pipeline(\n",
    "            columns={\n",
    "            'open_price': price,\n",
    "            'norm_eps': norm_eps,\n",
    "            'pe_ratio': pe_ratio,\n",
    "            'peg_ratio': peg_ratio,\n",
    "        #   'mean_sentiment_5day': mean_sentiment_5day,\n",
    "      #     'positive_sentiment_pct': positive_sentiment_pct,\n",
    "            'market_cap' : market_cap,\n",
    "            'big_business': 10 * billion < market_cap < 2000 * billion\n",
    "            },\n",
    "        screen = universe,\n",
    "        domain=US_EQUITIES,\n",
    "    )\n",
    "\n",
    "# Run the pipeline over a year and print the result.\n",
    "factor_data = run_pipeline(pipe, '2020-10-21', '2020-10-21')\n",
    "print(\"Result contains {} rows of output.\".format(len(factor_data)))\n",
    "factor_data.head()\n"
   ]
  },
  {
   "cell_type": "markdown",
   "metadata": {},
   "source": [
    "Checking for null data in the dataframe"
   ]
  },
  {
   "cell_type": "code",
   "execution_count": 108,
   "metadata": {},
   "outputs": [
    {
     "data": {
      "text/plain": [
       "big_business      0\n",
       "market_cap        0\n",
       "norm_eps         13\n",
       "open_price        0\n",
       "pe_ratio        122\n",
       "peg_ratio       289\n",
       "dtype: int64"
      ]
     },
     "execution_count": 108,
     "metadata": {},
     "output_type": "execute_result"
    }
   ],
   "source": [
    "factor_data.isnull().sum()"
   ]
  },
  {
   "cell_type": "code",
   "execution_count": 109,
   "metadata": {
    "scrolled": true
   },
   "outputs": [
    {
     "data": {
      "text/html": [
       "<div>\n",
       "<table border=\"1\" class=\"dataframe\">\n",
       "  <thead>\n",
       "    <tr style=\"text-align: right;\">\n",
       "      <th></th>\n",
       "      <th></th>\n",
       "      <th>big_business</th>\n",
       "      <th>market_cap</th>\n",
       "      <th>norm_eps</th>\n",
       "      <th>open_price</th>\n",
       "      <th>pe_ratio</th>\n",
       "      <th>peg_ratio</th>\n",
       "    </tr>\n",
       "  </thead>\n",
       "  <tbody>\n",
       "    <tr>\n",
       "      <th rowspan=\"10\" valign=\"top\">2020-10-21 00:00:00+00:00</th>\n",
       "      <th>Equity(2 [HWM])</th>\n",
       "      <td>True</td>\n",
       "      <td>7.946498e+09</td>\n",
       "      <td>-0.109330</td>\n",
       "      <td>18.76</td>\n",
       "      <td>14.124031</td>\n",
       "      <td>0.5640</td>\n",
       "    </tr>\n",
       "    <tr>\n",
       "      <th>Equity(24 [AAPL])</th>\n",
       "      <td>False</td>\n",
       "      <td>2.009719e+12</td>\n",
       "      <td>0.652500</td>\n",
       "      <td>116.20</td>\n",
       "      <td>35.636088</td>\n",
       "      <td>2.9013</td>\n",
       "    </tr>\n",
       "    <tr>\n",
       "      <th>Equity(53 [ABMD])</th>\n",
       "      <td>True</td>\n",
       "      <td>1.250197e+10</td>\n",
       "      <td>0.951124</td>\n",
       "      <td>283.35</td>\n",
       "      <td>79.750000</td>\n",
       "      <td>1.3815</td>\n",
       "    </tr>\n",
       "    <tr>\n",
       "      <th>Equity(62 [ABT])</th>\n",
       "      <td>True</td>\n",
       "      <td>1.918546e+11</td>\n",
       "      <td>0.299588</td>\n",
       "      <td>108.35</td>\n",
       "      <td>63.000000</td>\n",
       "      <td>3.4446</td>\n",
       "    </tr>\n",
       "    <tr>\n",
       "      <th>Equity(67 [ADSK])</th>\n",
       "      <td>True</td>\n",
       "      <td>5.642930e+10</td>\n",
       "      <td>0.483339</td>\n",
       "      <td>261.41</td>\n",
       "      <td>157.877301</td>\n",
       "      <td>1.4807</td>\n",
       "    </tr>\n",
       "    <tr>\n",
       "      <th>Equity(76 [TAP])</th>\n",
       "      <td>True</td>\n",
       "      <td>7.563091e+09</td>\n",
       "      <td>1.116408</td>\n",
       "      <td>35.06</td>\n",
       "      <td>35.063063</td>\n",
       "      <td>24.9359</td>\n",
       "    </tr>\n",
       "    <tr>\n",
       "      <th>Equity(110 [RAMP])</th>\n",
       "      <td>True</td>\n",
       "      <td>3.921030e+09</td>\n",
       "      <td>-0.303601</td>\n",
       "      <td>59.16</td>\n",
       "      <td>629.714286</td>\n",
       "      <td>2.0013</td>\n",
       "    </tr>\n",
       "    <tr>\n",
       "      <th>Equity(114 [ADBE])</th>\n",
       "      <td>True</td>\n",
       "      <td>2.372594e+11</td>\n",
       "      <td>1.969384</td>\n",
       "      <td>495.25</td>\n",
       "      <td>62.289673</td>\n",
       "      <td>2.3604</td>\n",
       "    </tr>\n",
       "    <tr>\n",
       "      <th>Equity(122 [ADI])</th>\n",
       "      <td>True</td>\n",
       "      <td>4.568498e+10</td>\n",
       "      <td>1.063892</td>\n",
       "      <td>122.96</td>\n",
       "      <td>41.344482</td>\n",
       "      <td>2.4217</td>\n",
       "    </tr>\n",
       "    <tr>\n",
       "      <th>Equity(128 [ADM])</th>\n",
       "      <td>True</td>\n",
       "      <td>2.826576e+10</td>\n",
       "      <td>0.766845</td>\n",
       "      <td>50.83</td>\n",
       "      <td>16.200637</td>\n",
       "      <td>2.0776</td>\n",
       "    </tr>\n",
       "  </tbody>\n",
       "</table>\n",
       "</div>"
      ],
      "text/plain": [
       "                                             big_business    market_cap  \\\n",
       "2020-10-21 00:00:00+00:00 Equity(2 [HWM])            True  7.946498e+09   \n",
       "                          Equity(24 [AAPL])         False  2.009719e+12   \n",
       "                          Equity(53 [ABMD])          True  1.250197e+10   \n",
       "                          Equity(62 [ABT])           True  1.918546e+11   \n",
       "                          Equity(67 [ADSK])          True  5.642930e+10   \n",
       "                          Equity(76 [TAP])           True  7.563091e+09   \n",
       "                          Equity(110 [RAMP])         True  3.921030e+09   \n",
       "                          Equity(114 [ADBE])         True  2.372594e+11   \n",
       "                          Equity(122 [ADI])          True  4.568498e+10   \n",
       "                          Equity(128 [ADM])          True  2.826576e+10   \n",
       "\n",
       "                                              norm_eps  open_price  \\\n",
       "2020-10-21 00:00:00+00:00 Equity(2 [HWM])    -0.109330       18.76   \n",
       "                          Equity(24 [AAPL])   0.652500      116.20   \n",
       "                          Equity(53 [ABMD])   0.951124      283.35   \n",
       "                          Equity(62 [ABT])    0.299588      108.35   \n",
       "                          Equity(67 [ADSK])   0.483339      261.41   \n",
       "                          Equity(76 [TAP])    1.116408       35.06   \n",
       "                          Equity(110 [RAMP]) -0.303601       59.16   \n",
       "                          Equity(114 [ADBE])  1.969384      495.25   \n",
       "                          Equity(122 [ADI])   1.063892      122.96   \n",
       "                          Equity(128 [ADM])   0.766845       50.83   \n",
       "\n",
       "                                                pe_ratio  peg_ratio  \n",
       "2020-10-21 00:00:00+00:00 Equity(2 [HWM])      14.124031     0.5640  \n",
       "                          Equity(24 [AAPL])    35.636088     2.9013  \n",
       "                          Equity(53 [ABMD])    79.750000     1.3815  \n",
       "                          Equity(62 [ABT])     63.000000     3.4446  \n",
       "                          Equity(67 [ADSK])   157.877301     1.4807  \n",
       "                          Equity(76 [TAP])     35.063063    24.9359  \n",
       "                          Equity(110 [RAMP])  629.714286     2.0013  \n",
       "                          Equity(114 [ADBE])   62.289673     2.3604  \n",
       "                          Equity(122 [ADI])    41.344482     2.4217  \n",
       "                          Equity(128 [ADM])    16.200637     2.0776  "
      ]
     },
     "execution_count": 109,
     "metadata": {},
     "output_type": "execute_result"
    }
   ],
   "source": [
    "#Remove null values\n",
    "factor_data.dropna(axis=0,inplace=True)\n",
    "factor_data.head(10)"
   ]
  },
  {
   "cell_type": "code",
   "execution_count": 110,
   "metadata": {},
   "outputs": [],
   "source": [
    "factor_data = factor_data[factor_data['big_business'] == True] #Filter for big businesses"
   ]
  },
  {
   "cell_type": "code",
   "execution_count": 111,
   "metadata": {},
   "outputs": [],
   "source": [
    "factor_data.index = factor_data.index.droplevel(0)  #dropping date index"
   ]
  },
  {
   "cell_type": "code",
   "execution_count": 112,
   "metadata": {},
   "outputs": [
    {
     "data": {
      "text/html": [
       "<div>\n",
       "<table border=\"1\" class=\"dataframe\">\n",
       "  <thead>\n",
       "    <tr style=\"text-align: right;\">\n",
       "      <th></th>\n",
       "      <th>big_business</th>\n",
       "      <th>market_cap</th>\n",
       "      <th>norm_eps</th>\n",
       "      <th>open_price</th>\n",
       "      <th>pe_ratio</th>\n",
       "      <th>peg_ratio</th>\n",
       "    </tr>\n",
       "  </thead>\n",
       "  <tbody>\n",
       "    <tr>\n",
       "      <th>Equity(2 [HWM])</th>\n",
       "      <td>True</td>\n",
       "      <td>7.946498e+09</td>\n",
       "      <td>-0.109330</td>\n",
       "      <td>18.76</td>\n",
       "      <td>14.124031</td>\n",
       "      <td>0.5640</td>\n",
       "    </tr>\n",
       "    <tr>\n",
       "      <th>Equity(53 [ABMD])</th>\n",
       "      <td>True</td>\n",
       "      <td>1.250197e+10</td>\n",
       "      <td>0.951124</td>\n",
       "      <td>283.35</td>\n",
       "      <td>79.750000</td>\n",
       "      <td>1.3815</td>\n",
       "    </tr>\n",
       "    <tr>\n",
       "      <th>Equity(62 [ABT])</th>\n",
       "      <td>True</td>\n",
       "      <td>1.918546e+11</td>\n",
       "      <td>0.299588</td>\n",
       "      <td>108.35</td>\n",
       "      <td>63.000000</td>\n",
       "      <td>3.4446</td>\n",
       "    </tr>\n",
       "    <tr>\n",
       "      <th>Equity(67 [ADSK])</th>\n",
       "      <td>True</td>\n",
       "      <td>5.642930e+10</td>\n",
       "      <td>0.483339</td>\n",
       "      <td>261.41</td>\n",
       "      <td>157.877301</td>\n",
       "      <td>1.4807</td>\n",
       "    </tr>\n",
       "    <tr>\n",
       "      <th>Equity(76 [TAP])</th>\n",
       "      <td>True</td>\n",
       "      <td>7.563091e+09</td>\n",
       "      <td>1.116408</td>\n",
       "      <td>35.06</td>\n",
       "      <td>35.063063</td>\n",
       "      <td>24.9359</td>\n",
       "    </tr>\n",
       "    <tr>\n",
       "      <th>Equity(110 [RAMP])</th>\n",
       "      <td>True</td>\n",
       "      <td>3.921030e+09</td>\n",
       "      <td>-0.303601</td>\n",
       "      <td>59.16</td>\n",
       "      <td>629.714286</td>\n",
       "      <td>2.0013</td>\n",
       "    </tr>\n",
       "    <tr>\n",
       "      <th>Equity(114 [ADBE])</th>\n",
       "      <td>True</td>\n",
       "      <td>2.372594e+11</td>\n",
       "      <td>1.969384</td>\n",
       "      <td>495.25</td>\n",
       "      <td>62.289673</td>\n",
       "      <td>2.3604</td>\n",
       "    </tr>\n",
       "    <tr>\n",
       "      <th>Equity(122 [ADI])</th>\n",
       "      <td>True</td>\n",
       "      <td>4.568498e+10</td>\n",
       "      <td>1.063892</td>\n",
       "      <td>122.96</td>\n",
       "      <td>41.344482</td>\n",
       "      <td>2.4217</td>\n",
       "    </tr>\n",
       "    <tr>\n",
       "      <th>Equity(128 [ADM])</th>\n",
       "      <td>True</td>\n",
       "      <td>2.826576e+10</td>\n",
       "      <td>0.766845</td>\n",
       "      <td>50.83</td>\n",
       "      <td>16.200637</td>\n",
       "      <td>2.0776</td>\n",
       "    </tr>\n",
       "    <tr>\n",
       "      <th>Equity(161 [AEP])</th>\n",
       "      <td>True</td>\n",
       "      <td>4.499137e+10</td>\n",
       "      <td>0.980941</td>\n",
       "      <td>91.90</td>\n",
       "      <td>23.676240</td>\n",
       "      <td>2.8510</td>\n",
       "    </tr>\n",
       "  </tbody>\n",
       "</table>\n",
       "</div>"
      ],
      "text/plain": [
       "                   big_business    market_cap  norm_eps  open_price  \\\n",
       "Equity(2 [HWM])            True  7.946498e+09 -0.109330       18.76   \n",
       "Equity(53 [ABMD])          True  1.250197e+10  0.951124      283.35   \n",
       "Equity(62 [ABT])           True  1.918546e+11  0.299588      108.35   \n",
       "Equity(67 [ADSK])          True  5.642930e+10  0.483339      261.41   \n",
       "Equity(76 [TAP])           True  7.563091e+09  1.116408       35.06   \n",
       "Equity(110 [RAMP])         True  3.921030e+09 -0.303601       59.16   \n",
       "Equity(114 [ADBE])         True  2.372594e+11  1.969384      495.25   \n",
       "Equity(122 [ADI])          True  4.568498e+10  1.063892      122.96   \n",
       "Equity(128 [ADM])          True  2.826576e+10  0.766845       50.83   \n",
       "Equity(161 [AEP])          True  4.499137e+10  0.980941       91.90   \n",
       "\n",
       "                      pe_ratio  peg_ratio  \n",
       "Equity(2 [HWM])      14.124031     0.5640  \n",
       "Equity(53 [ABMD])    79.750000     1.3815  \n",
       "Equity(62 [ABT])     63.000000     3.4446  \n",
       "Equity(67 [ADSK])   157.877301     1.4807  \n",
       "Equity(76 [TAP])     35.063063    24.9359  \n",
       "Equity(110 [RAMP])  629.714286     2.0013  \n",
       "Equity(114 [ADBE])   62.289673     2.3604  \n",
       "Equity(122 [ADI])    41.344482     2.4217  \n",
       "Equity(128 [ADM])    16.200637     2.0776  \n",
       "Equity(161 [AEP])    23.676240     2.8510  "
      ]
     },
     "execution_count": 112,
     "metadata": {},
     "output_type": "execute_result"
    }
   ],
   "source": [
    "factor_data.head(10) #Visualization"
   ]
  },
  {
   "cell_type": "code",
   "execution_count": 113,
   "metadata": {
    "scrolled": true
   },
   "outputs": [],
   "source": [
    "factor_data.drop(['big_business'], axis=1, inplace = True) #drop big_business column because it is Boolean"
   ]
  },
  {
   "cell_type": "code",
   "execution_count": 114,
   "metadata": {},
   "outputs": [
    {
     "data": {
      "text/html": [
       "<div>\n",
       "<table border=\"1\" class=\"dataframe\">\n",
       "  <thead>\n",
       "    <tr style=\"text-align: right;\">\n",
       "      <th></th>\n",
       "      <th>market_cap</th>\n",
       "      <th>norm_eps</th>\n",
       "      <th>open_price</th>\n",
       "      <th>pe_ratio</th>\n",
       "      <th>peg_ratio</th>\n",
       "    </tr>\n",
       "  </thead>\n",
       "  <tbody>\n",
       "    <tr>\n",
       "      <th>Equity(2 [HWM])</th>\n",
       "      <td>7.946498e+09</td>\n",
       "      <td>-0.109330</td>\n",
       "      <td>18.76</td>\n",
       "      <td>14.124031</td>\n",
       "      <td>0.5640</td>\n",
       "    </tr>\n",
       "    <tr>\n",
       "      <th>Equity(53 [ABMD])</th>\n",
       "      <td>1.250197e+10</td>\n",
       "      <td>0.951124</td>\n",
       "      <td>283.35</td>\n",
       "      <td>79.750000</td>\n",
       "      <td>1.3815</td>\n",
       "    </tr>\n",
       "    <tr>\n",
       "      <th>Equity(62 [ABT])</th>\n",
       "      <td>1.918546e+11</td>\n",
       "      <td>0.299588</td>\n",
       "      <td>108.35</td>\n",
       "      <td>63.000000</td>\n",
       "      <td>3.4446</td>\n",
       "    </tr>\n",
       "    <tr>\n",
       "      <th>Equity(67 [ADSK])</th>\n",
       "      <td>5.642930e+10</td>\n",
       "      <td>0.483339</td>\n",
       "      <td>261.41</td>\n",
       "      <td>157.877301</td>\n",
       "      <td>1.4807</td>\n",
       "    </tr>\n",
       "    <tr>\n",
       "      <th>Equity(76 [TAP])</th>\n",
       "      <td>7.563091e+09</td>\n",
       "      <td>1.116408</td>\n",
       "      <td>35.06</td>\n",
       "      <td>35.063063</td>\n",
       "      <td>24.9359</td>\n",
       "    </tr>\n",
       "  </tbody>\n",
       "</table>\n",
       "</div>"
      ],
      "text/plain": [
       "                     market_cap  norm_eps  open_price    pe_ratio  peg_ratio\n",
       "Equity(2 [HWM])    7.946498e+09 -0.109330       18.76   14.124031     0.5640\n",
       "Equity(53 [ABMD])  1.250197e+10  0.951124      283.35   79.750000     1.3815\n",
       "Equity(62 [ABT])   1.918546e+11  0.299588      108.35   63.000000     3.4446\n",
       "Equity(67 [ADSK])  5.642930e+10  0.483339      261.41  157.877301     1.4807\n",
       "Equity(76 [TAP])   7.563091e+09  1.116408       35.06   35.063063    24.9359"
      ]
     },
     "execution_count": 114,
     "metadata": {},
     "output_type": "execute_result"
    }
   ],
   "source": [
    "factor_data.head() #visualization"
   ]
  },
  {
   "cell_type": "markdown",
   "metadata": {},
   "source": [
    "Getting the pricing data for the last year"
   ]
  },
  {
   "cell_type": "code",
   "execution_count": 115,
   "metadata": {},
   "outputs": [
    {
     "name": "stdout",
     "output_type": "stream",
     "text": [
      "<class 'pandas.core.panel.Panel'>\n"
     ]
    }
   ],
   "source": [
    "#Get the pricing data for Daily Pricing\n",
    "daily_price = get_pricing(\n",
    "          factor_data.index, \n",
    "          fields ={'open_price','close_price','high','low'}, #price, open_price, close_price, high, low\n",
    "          start_date = '2019-10-20',\n",
    "          end_date = pd.datetime.today(),\n",
    "          frequency = 'daily',\n",
    "          )\n",
    "\n",
    "print(type(daily_price))"
   ]
  },
  {
   "cell_type": "code",
   "execution_count": 116,
   "metadata": {},
   "outputs": [
    {
     "data": {
      "text/html": [
       "<div>\n",
       "<table border=\"1\" class=\"dataframe\">\n",
       "  <thead>\n",
       "    <tr style=\"text-align: right;\">\n",
       "      <th></th>\n",
       "      <th>Equity(2 [HWM])</th>\n",
       "      <th>Equity(53 [ABMD])</th>\n",
       "      <th>Equity(62 [ABT])</th>\n",
       "      <th>Equity(67 [ADSK])</th>\n",
       "      <th>Equity(76 [TAP])</th>\n",
       "      <th>Equity(110 [RAMP])</th>\n",
       "      <th>Equity(114 [ADBE])</th>\n",
       "      <th>Equity(122 [ADI])</th>\n",
       "      <th>Equity(128 [ADM])</th>\n",
       "      <th>Equity(161 [AEP])</th>\n",
       "      <th>...</th>\n",
       "      <th>Equity(52838 [CVET])</th>\n",
       "      <th>Equity(52968 [FOXA])</th>\n",
       "      <th>Equity(53095 [ZM])</th>\n",
       "      <th>Equity(53116 [BYND])</th>\n",
       "      <th>Equity(53196 [CTVA])</th>\n",
       "      <th>Equity(53924 [PPD])</th>\n",
       "      <th>Equity(54055 [OTIS])</th>\n",
       "      <th>Equity(54057 [CARR])</th>\n",
       "      <th>Equity(54335 [ACI])</th>\n",
       "      <th>Equity(54353 [MTCH])</th>\n",
       "    </tr>\n",
       "  </thead>\n",
       "  <tbody>\n",
       "    <tr>\n",
       "      <th>2019-10-21 00:00:00+00:00</th>\n",
       "      <td>0.001483</td>\n",
       "      <td>0.003535</td>\n",
       "      <td>-0.013889</td>\n",
       "      <td>0.013320</td>\n",
       "      <td>0.003159</td>\n",
       "      <td>0.020673</td>\n",
       "      <td>0.005236</td>\n",
       "      <td>0.014978</td>\n",
       "      <td>0.018665</td>\n",
       "      <td>0.003717</td>\n",
       "      <td>...</td>\n",
       "      <td>-0.004916</td>\n",
       "      <td>0.017229</td>\n",
       "      <td>-0.005068</td>\n",
       "      <td>-0.000636</td>\n",
       "      <td>-0.021117</td>\n",
       "      <td>NaN</td>\n",
       "      <td>NaN</td>\n",
       "      <td>NaN</td>\n",
       "      <td>NaN</td>\n",
       "      <td>NaN</td>\n",
       "    </tr>\n",
       "    <tr>\n",
       "      <th>2019-10-22 00:00:00+00:00</th>\n",
       "      <td>0.001481</td>\n",
       "      <td>-0.029428</td>\n",
       "      <td>-0.013475</td>\n",
       "      <td>-0.010247</td>\n",
       "      <td>0.037255</td>\n",
       "      <td>-0.023630</td>\n",
       "      <td>-0.021548</td>\n",
       "      <td>-0.001976</td>\n",
       "      <td>0.004459</td>\n",
       "      <td>-0.003496</td>\n",
       "      <td>...</td>\n",
       "      <td>-0.065217</td>\n",
       "      <td>0.021715</td>\n",
       "      <td>-0.057321</td>\n",
       "      <td>-0.032727</td>\n",
       "      <td>0.018811</td>\n",
       "      <td>NaN</td>\n",
       "      <td>NaN</td>\n",
       "      <td>NaN</td>\n",
       "      <td>NaN</td>\n",
       "      <td>NaN</td>\n",
       "    </tr>\n",
       "    <tr>\n",
       "      <th>2019-10-23 00:00:00+00:00</th>\n",
       "      <td>0.006286</td>\n",
       "      <td>0.047179</td>\n",
       "      <td>0.009068</td>\n",
       "      <td>0.013424</td>\n",
       "      <td>0.002864</td>\n",
       "      <td>0.030319</td>\n",
       "      <td>0.001226</td>\n",
       "      <td>-0.048068</td>\n",
       "      <td>0.003929</td>\n",
       "      <td>0.003508</td>\n",
       "      <td>...</td>\n",
       "      <td>-0.047569</td>\n",
       "      <td>-0.006892</td>\n",
       "      <td>0.002306</td>\n",
       "      <td>-0.080573</td>\n",
       "      <td>-0.014260</td>\n",
       "      <td>NaN</td>\n",
       "      <td>NaN</td>\n",
       "      <td>NaN</td>\n",
       "      <td>NaN</td>\n",
       "      <td>NaN</td>\n",
       "    </tr>\n",
       "    <tr>\n",
       "      <th>2019-10-24 00:00:00+00:00</th>\n",
       "      <td>0.006247</td>\n",
       "      <td>0.005198</td>\n",
       "      <td>0.001100</td>\n",
       "      <td>0.024237</td>\n",
       "      <td>-0.009581</td>\n",
       "      <td>0.022457</td>\n",
       "      <td>0.031751</td>\n",
       "      <td>-0.002563</td>\n",
       "      <td>-0.004422</td>\n",
       "      <td>0.013022</td>\n",
       "      <td>...</td>\n",
       "      <td>-0.023307</td>\n",
       "      <td>-0.027393</td>\n",
       "      <td>0.038572</td>\n",
       "      <td>0.039897</td>\n",
       "      <td>0.029292</td>\n",
       "      <td>NaN</td>\n",
       "      <td>NaN</td>\n",
       "      <td>NaN</td>\n",
       "      <td>NaN</td>\n",
       "      <td>NaN</td>\n",
       "    </tr>\n",
       "    <tr>\n",
       "      <th>2019-10-25 00:00:00+00:00</th>\n",
       "      <td>0.007669</td>\n",
       "      <td>0.014180</td>\n",
       "      <td>0.003446</td>\n",
       "      <td>0.001307</td>\n",
       "      <td>-0.034806</td>\n",
       "      <td>0.006564</td>\n",
       "      <td>0.004709</td>\n",
       "      <td>0.014535</td>\n",
       "      <td>0.011589</td>\n",
       "      <td>-0.014106</td>\n",
       "      <td>...</td>\n",
       "      <td>0.004545</td>\n",
       "      <td>0.002483</td>\n",
       "      <td>-0.016889</td>\n",
       "      <td>-0.010518</td>\n",
       "      <td>0.014055</td>\n",
       "      <td>NaN</td>\n",
       "      <td>NaN</td>\n",
       "      <td>NaN</td>\n",
       "      <td>NaN</td>\n",
       "      <td>NaN</td>\n",
       "    </tr>\n",
       "  </tbody>\n",
       "</table>\n",
       "<p>5 rows × 1170 columns</p>\n",
       "</div>"
      ],
      "text/plain": [
       "                           Equity(2 [HWM])  Equity(53 [ABMD])  \\\n",
       "2019-10-21 00:00:00+00:00         0.001483           0.003535   \n",
       "2019-10-22 00:00:00+00:00         0.001481          -0.029428   \n",
       "2019-10-23 00:00:00+00:00         0.006286           0.047179   \n",
       "2019-10-24 00:00:00+00:00         0.006247           0.005198   \n",
       "2019-10-25 00:00:00+00:00         0.007669           0.014180   \n",
       "\n",
       "                           Equity(62 [ABT])  Equity(67 [ADSK])  \\\n",
       "2019-10-21 00:00:00+00:00         -0.013889           0.013320   \n",
       "2019-10-22 00:00:00+00:00         -0.013475          -0.010247   \n",
       "2019-10-23 00:00:00+00:00          0.009068           0.013424   \n",
       "2019-10-24 00:00:00+00:00          0.001100           0.024237   \n",
       "2019-10-25 00:00:00+00:00          0.003446           0.001307   \n",
       "\n",
       "                           Equity(76 [TAP])  Equity(110 [RAMP])  \\\n",
       "2019-10-21 00:00:00+00:00          0.003159            0.020673   \n",
       "2019-10-22 00:00:00+00:00          0.037255           -0.023630   \n",
       "2019-10-23 00:00:00+00:00          0.002864            0.030319   \n",
       "2019-10-24 00:00:00+00:00         -0.009581            0.022457   \n",
       "2019-10-25 00:00:00+00:00         -0.034806            0.006564   \n",
       "\n",
       "                           Equity(114 [ADBE])  Equity(122 [ADI])  \\\n",
       "2019-10-21 00:00:00+00:00            0.005236           0.014978   \n",
       "2019-10-22 00:00:00+00:00           -0.021548          -0.001976   \n",
       "2019-10-23 00:00:00+00:00            0.001226          -0.048068   \n",
       "2019-10-24 00:00:00+00:00            0.031751          -0.002563   \n",
       "2019-10-25 00:00:00+00:00            0.004709           0.014535   \n",
       "\n",
       "                           Equity(128 [ADM])  Equity(161 [AEP])  \\\n",
       "2019-10-21 00:00:00+00:00           0.018665           0.003717   \n",
       "2019-10-22 00:00:00+00:00           0.004459          -0.003496   \n",
       "2019-10-23 00:00:00+00:00           0.003929           0.003508   \n",
       "2019-10-24 00:00:00+00:00          -0.004422           0.013022   \n",
       "2019-10-25 00:00:00+00:00           0.011589          -0.014106   \n",
       "\n",
       "                                   ...           Equity(52838 [CVET])  \\\n",
       "2019-10-21 00:00:00+00:00          ...                      -0.004916   \n",
       "2019-10-22 00:00:00+00:00          ...                      -0.065217   \n",
       "2019-10-23 00:00:00+00:00          ...                      -0.047569   \n",
       "2019-10-24 00:00:00+00:00          ...                      -0.023307   \n",
       "2019-10-25 00:00:00+00:00          ...                       0.004545   \n",
       "\n",
       "                           Equity(52968 [FOXA])  Equity(53095 [ZM])  \\\n",
       "2019-10-21 00:00:00+00:00              0.017229           -0.005068   \n",
       "2019-10-22 00:00:00+00:00              0.021715           -0.057321   \n",
       "2019-10-23 00:00:00+00:00             -0.006892            0.002306   \n",
       "2019-10-24 00:00:00+00:00             -0.027393            0.038572   \n",
       "2019-10-25 00:00:00+00:00              0.002483           -0.016889   \n",
       "\n",
       "                           Equity(53116 [BYND])  Equity(53196 [CTVA])  \\\n",
       "2019-10-21 00:00:00+00:00             -0.000636             -0.021117   \n",
       "2019-10-22 00:00:00+00:00             -0.032727              0.018811   \n",
       "2019-10-23 00:00:00+00:00             -0.080573             -0.014260   \n",
       "2019-10-24 00:00:00+00:00              0.039897              0.029292   \n",
       "2019-10-25 00:00:00+00:00             -0.010518              0.014055   \n",
       "\n",
       "                           Equity(53924 [PPD])  Equity(54055 [OTIS])  \\\n",
       "2019-10-21 00:00:00+00:00                  NaN                   NaN   \n",
       "2019-10-22 00:00:00+00:00                  NaN                   NaN   \n",
       "2019-10-23 00:00:00+00:00                  NaN                   NaN   \n",
       "2019-10-24 00:00:00+00:00                  NaN                   NaN   \n",
       "2019-10-25 00:00:00+00:00                  NaN                   NaN   \n",
       "\n",
       "                           Equity(54057 [CARR])  Equity(54335 [ACI])  \\\n",
       "2019-10-21 00:00:00+00:00                   NaN                  NaN   \n",
       "2019-10-22 00:00:00+00:00                   NaN                  NaN   \n",
       "2019-10-23 00:00:00+00:00                   NaN                  NaN   \n",
       "2019-10-24 00:00:00+00:00                   NaN                  NaN   \n",
       "2019-10-25 00:00:00+00:00                   NaN                  NaN   \n",
       "\n",
       "                           Equity(54353 [MTCH])  \n",
       "2019-10-21 00:00:00+00:00                   NaN  \n",
       "2019-10-22 00:00:00+00:00                   NaN  \n",
       "2019-10-23 00:00:00+00:00                   NaN  \n",
       "2019-10-24 00:00:00+00:00                   NaN  \n",
       "2019-10-25 00:00:00+00:00                   NaN  \n",
       "\n",
       "[5 rows x 1170 columns]"
      ]
     },
     "execution_count": 116,
     "metadata": {},
     "output_type": "execute_result"
    }
   ],
   "source": [
    "# compute returns\n",
    "r = returns(\n",
    "    assets= factor_data.index,\n",
    "    start='2019-10-20',\n",
    "    end='2020-10-20',\n",
    "    frequency ='daily'\n",
    ")\n",
    "r.head()"
   ]
  },
  {
   "cell_type": "code",
   "execution_count": 117,
   "metadata": {},
   "outputs": [
    {
     "data": {
      "text/plain": [
       "(253, 1170)"
      ]
     },
     "execution_count": 117,
     "metadata": {},
     "output_type": "execute_result"
    }
   ],
   "source": [
    "r.shape "
   ]
  },
  {
   "cell_type": "markdown",
   "metadata": {},
   "source": [
    "Finding Columns with null values"
   ]
  },
  {
   "cell_type": "code",
   "execution_count": 118,
   "metadata": {},
   "outputs": [
    {
     "data": {
      "text/plain": [
       "Index([ Equity(53924 [PPD]), Equity(54055 [OTIS]), Equity(54057 [CARR]),\n",
       "        Equity(54335 [ACI]), Equity(54353 [MTCH])],\n",
       "      dtype='object')"
      ]
     },
     "execution_count": 118,
     "metadata": {},
     "output_type": "execute_result"
    }
   ],
   "source": [
    "r.columns[r.isnull().any()] # null values check"
   ]
  },
  {
   "cell_type": "code",
   "execution_count": 119,
   "metadata": {},
   "outputs": [
    {
     "data": {
      "text/plain": [
       "Equity(2 [HWM])      0.020675\n",
       "Equity(53 [ABMD])    0.072500\n",
       "Equity(62 [ABT])     0.058216\n",
       "Equity(67 [ADSK])    0.093341\n",
       "Equity(76 [TAP])    -0.054381\n",
       "dtype: float64"
      ]
     },
     "execution_count": 119,
     "metadata": {},
     "output_type": "execute_result"
    }
   ],
   "source": [
    "#compute mean of the returns\n",
    "ar = r.mean()\n",
    "\n",
    "#compute standard deviations of the returns\n",
    "sr = r.std()\n",
    "\n",
    "#compute sharpe ratio \n",
    "sharpe_ratio = ar.div(sr)\n",
    "\n",
    "sharpe_ratio.head()"
   ]
  },
  {
   "cell_type": "markdown",
   "metadata": {},
   "source": [
    "Add the Sharpe Ratio to the dataframe"
   ]
  },
  {
   "cell_type": "code",
   "execution_count": 120,
   "metadata": {},
   "outputs": [
    {
     "data": {
      "text/html": [
       "<div>\n",
       "<table border=\"1\" class=\"dataframe\">\n",
       "  <thead>\n",
       "    <tr style=\"text-align: right;\">\n",
       "      <th></th>\n",
       "      <th>market_cap</th>\n",
       "      <th>norm_eps</th>\n",
       "      <th>open_price</th>\n",
       "      <th>pe_ratio</th>\n",
       "      <th>peg_ratio</th>\n",
       "      <th>sharpe_ratio</th>\n",
       "    </tr>\n",
       "  </thead>\n",
       "  <tbody>\n",
       "    <tr>\n",
       "      <th>Equity(2 [HWM])</th>\n",
       "      <td>7.946498e+09</td>\n",
       "      <td>-0.109330</td>\n",
       "      <td>18.76</td>\n",
       "      <td>14.124031</td>\n",
       "      <td>0.5640</td>\n",
       "      <td>0.020675</td>\n",
       "    </tr>\n",
       "    <tr>\n",
       "      <th>Equity(53 [ABMD])</th>\n",
       "      <td>1.250197e+10</td>\n",
       "      <td>0.951124</td>\n",
       "      <td>283.35</td>\n",
       "      <td>79.750000</td>\n",
       "      <td>1.3815</td>\n",
       "      <td>0.072500</td>\n",
       "    </tr>\n",
       "    <tr>\n",
       "      <th>Equity(62 [ABT])</th>\n",
       "      <td>1.918546e+11</td>\n",
       "      <td>0.299588</td>\n",
       "      <td>108.35</td>\n",
       "      <td>63.000000</td>\n",
       "      <td>3.4446</td>\n",
       "      <td>0.058216</td>\n",
       "    </tr>\n",
       "    <tr>\n",
       "      <th>Equity(67 [ADSK])</th>\n",
       "      <td>5.642930e+10</td>\n",
       "      <td>0.483339</td>\n",
       "      <td>261.41</td>\n",
       "      <td>157.877301</td>\n",
       "      <td>1.4807</td>\n",
       "      <td>0.093341</td>\n",
       "    </tr>\n",
       "    <tr>\n",
       "      <th>Equity(76 [TAP])</th>\n",
       "      <td>7.563091e+09</td>\n",
       "      <td>1.116408</td>\n",
       "      <td>35.06</td>\n",
       "      <td>35.063063</td>\n",
       "      <td>24.9359</td>\n",
       "      <td>-0.054381</td>\n",
       "    </tr>\n",
       "  </tbody>\n",
       "</table>\n",
       "</div>"
      ],
      "text/plain": [
       "                     market_cap  norm_eps  open_price    pe_ratio  peg_ratio  \\\n",
       "Equity(2 [HWM])    7.946498e+09 -0.109330       18.76   14.124031     0.5640   \n",
       "Equity(53 [ABMD])  1.250197e+10  0.951124      283.35   79.750000     1.3815   \n",
       "Equity(62 [ABT])   1.918546e+11  0.299588      108.35   63.000000     3.4446   \n",
       "Equity(67 [ADSK])  5.642930e+10  0.483339      261.41  157.877301     1.4807   \n",
       "Equity(76 [TAP])   7.563091e+09  1.116408       35.06   35.063063    24.9359   \n",
       "\n",
       "                   sharpe_ratio  \n",
       "Equity(2 [HWM])        0.020675  \n",
       "Equity(53 [ABMD])      0.072500  \n",
       "Equity(62 [ABT])       0.058216  \n",
       "Equity(67 [ADSK])      0.093341  \n",
       "Equity(76 [TAP])      -0.054381  "
      ]
     },
     "execution_count": 120,
     "metadata": {},
     "output_type": "execute_result"
    }
   ],
   "source": [
    "factor_data['sharpe_ratio'] = sharpe_ratio\n",
    "factor_data.head()"
   ]
  },
  {
   "cell_type": "markdown",
   "metadata": {},
   "source": [
    "# Data Exploration: Exploring the Dataset\n",
    "\n",
    "**plot the weekly returns of a set of stocks of your choice** \n"
   ]
  },
  {
   "cell_type": "code",
   "execution_count": 121,
   "metadata": {},
   "outputs": [
    {
     "data": {
      "text/html": [
       "<div>\n",
       "<table border=\"1\" class=\"dataframe\">\n",
       "  <thead>\n",
       "    <tr style=\"text-align: right;\">\n",
       "      <th></th>\n",
       "      <th>Equity(5061 [MSFT])</th>\n",
       "      <th>Equity(46631 [GOOG])</th>\n",
       "      <th>Equity(16841 [AMZN])</th>\n",
       "      <th>Equity(3766 [IBM])</th>\n",
       "    </tr>\n",
       "  </thead>\n",
       "  <tbody>\n",
       "    <tr>\n",
       "      <th>2020-01-03 00:00:00+00:00</th>\n",
       "      <td>-0.013314</td>\n",
       "      <td>-0.006025</td>\n",
       "      <td>-0.012004</td>\n",
       "      <td>-0.008120</td>\n",
       "    </tr>\n",
       "    <tr>\n",
       "      <th>2020-01-10 00:00:00+00:00</th>\n",
       "      <td>-0.004751</td>\n",
       "      <td>0.006923</td>\n",
       "      <td>-0.009479</td>\n",
       "      <td>-0.000660</td>\n",
       "    </tr>\n",
       "    <tr>\n",
       "      <th>2020-01-17 00:00:00+00:00</th>\n",
       "      <td>0.005655</td>\n",
       "      <td>0.020573</td>\n",
       "      <td>-0.007241</td>\n",
       "      <td>0.002248</td>\n",
       "    </tr>\n",
       "    <tr>\n",
       "      <th>2020-01-24 00:00:00+00:00</th>\n",
       "      <td>-0.010979</td>\n",
       "      <td>-0.012684</td>\n",
       "      <td>-0.011944</td>\n",
       "      <td>-0.015889</td>\n",
       "    </tr>\n",
       "    <tr>\n",
       "      <th>2020-01-31 00:00:00+00:00</th>\n",
       "      <td>-0.015787</td>\n",
       "      <td>-0.014785</td>\n",
       "      <td>0.072169</td>\n",
       "      <td>0.050278</td>\n",
       "    </tr>\n",
       "  </tbody>\n",
       "</table>\n",
       "</div>"
      ],
      "text/plain": [
       "                           Equity(5061 [MSFT])  Equity(46631 [GOOG])  \\\n",
       "2020-01-03 00:00:00+00:00            -0.013314             -0.006025   \n",
       "2020-01-10 00:00:00+00:00            -0.004751              0.006923   \n",
       "2020-01-17 00:00:00+00:00             0.005655              0.020573   \n",
       "2020-01-24 00:00:00+00:00            -0.010979             -0.012684   \n",
       "2020-01-31 00:00:00+00:00            -0.015787             -0.014785   \n",
       "\n",
       "                           Equity(16841 [AMZN])  Equity(3766 [IBM])  \n",
       "2020-01-03 00:00:00+00:00             -0.012004           -0.008120  \n",
       "2020-01-10 00:00:00+00:00             -0.009479           -0.000660  \n",
       "2020-01-17 00:00:00+00:00             -0.007241            0.002248  \n",
       "2020-01-24 00:00:00+00:00             -0.011944           -0.015889  \n",
       "2020-01-31 00:00:00+00:00              0.072169            0.050278  "
      ]
     },
     "execution_count": 121,
     "metadata": {},
     "output_type": "execute_result"
    }
   ],
   "source": [
    "# computing daily returns for Microsoft, Google, Amazon and IBM\n",
    "r_daily = returns(\n",
    "    assets=symbols([\"MSFT\",\"GOOG\",\"AMZN\",\"IBM\"]),\n",
    "    start='2020-1-1',\n",
    "    end='2020-9-1',\n",
    "    frequency='daily'\n",
    ")\n",
    "\n",
    "# resampling dataframe to get weekly data\n",
    "r_weekly = r_daily.resample('W-FRI', closed='right', label='right').last()\n",
    "r_weekly.head()"
   ]
  },
  {
   "cell_type": "code",
   "execution_count": 122,
   "metadata": {},
   "outputs": [
    {
     "data": {
      "text/plain": [
       "array([<matplotlib.axes._subplots.AxesSubplot object at 0x7f27e36136a0>,\n",
       "       <matplotlib.axes._subplots.AxesSubplot object at 0x7f27f4f92a58>,\n",
       "       <matplotlib.axes._subplots.AxesSubplot object at 0x7f27f44269b0>,\n",
       "       <matplotlib.axes._subplots.AxesSubplot object at 0x7f27e3bc2e10>], dtype=object)"
      ]
     },
     "execution_count": 122,
     "metadata": {},
     "output_type": "execute_result"
    },
    {
     "data": {
      "image/png": "[encoded data removed]",
      "text/plain": [
       "<Figure size 1008x576 with 4 Axes>"
      ]
     },
     "metadata": {},
     "output_type": "display_data"
    }
   ],
   "source": [
    "r_weekly.plot(subplots=True) "
   ]
  },
  {
   "cell_type": "markdown",
   "metadata": {},
   "source": [
    "Exploration of the factors used. "
   ]
  },
  {
   "cell_type": "code",
   "execution_count": 123,
   "metadata": {
    "scrolled": true
   },
   "outputs": [
    {
     "data": {
      "text/html": [
       "<div>\n",
       "<table border=\"1\" class=\"dataframe\">\n",
       "  <thead>\n",
       "    <tr style=\"text-align: right;\">\n",
       "      <th></th>\n",
       "      <th>market_cap</th>\n",
       "      <th>norm_eps</th>\n",
       "      <th>open_price</th>\n",
       "      <th>pe_ratio</th>\n",
       "      <th>peg_ratio</th>\n",
       "      <th>sharpe_ratio</th>\n",
       "    </tr>\n",
       "  </thead>\n",
       "  <tbody>\n",
       "    <tr>\n",
       "      <th>count</th>\n",
       "      <td>1.170000e+03</td>\n",
       "      <td>1170.000000</td>\n",
       "      <td>1170.00000</td>\n",
       "      <td>1170.000000</td>\n",
       "      <td>1170.000000</td>\n",
       "      <td>1170.000000</td>\n",
       "    </tr>\n",
       "    <tr>\n",
       "      <th>mean</th>\n",
       "      <td>2.808373e+10</td>\n",
       "      <td>18.819623</td>\n",
       "      <td>375.61370</td>\n",
       "      <td>98.003548</td>\n",
       "      <td>6.292125</td>\n",
       "      <td>0.025930</td>\n",
       "    </tr>\n",
       "    <tr>\n",
       "      <th>std</th>\n",
       "      <td>9.024509e+10</td>\n",
       "      <td>620.825098</td>\n",
       "      <td>9243.06184</td>\n",
       "      <td>486.224341</td>\n",
       "      <td>32.430275</td>\n",
       "      <td>0.040583</td>\n",
       "    </tr>\n",
       "    <tr>\n",
       "      <th>min</th>\n",
       "      <td>5.022483e+08</td>\n",
       "      <td>-10.589353</td>\n",
       "      <td>2.31000</td>\n",
       "      <td>0.872483</td>\n",
       "      <td>-0.247800</td>\n",
       "      <td>-0.069130</td>\n",
       "    </tr>\n",
       "    <tr>\n",
       "      <th>25%</th>\n",
       "      <td>3.264005e+09</td>\n",
       "      <td>-0.013453</td>\n",
       "      <td>27.82750</td>\n",
       "      <td>15.410930</td>\n",
       "      <td>1.298425</td>\n",
       "      <td>-0.002546</td>\n",
       "    </tr>\n",
       "    <tr>\n",
       "      <th>50%</th>\n",
       "      <td>7.319056e+09</td>\n",
       "      <td>0.421972</td>\n",
       "      <td>58.86500</td>\n",
       "      <td>26.264007</td>\n",
       "      <td>2.156400</td>\n",
       "      <td>0.022563</td>\n",
       "    </tr>\n",
       "    <tr>\n",
       "      <th>75%</th>\n",
       "      <td>2.140105e+10</td>\n",
       "      <td>1.039944</td>\n",
       "      <td>114.71750</td>\n",
       "      <td>51.468254</td>\n",
       "      <td>3.697375</td>\n",
       "      <td>0.050322</td>\n",
       "    </tr>\n",
       "    <tr>\n",
       "      <th>max</th>\n",
       "      <td>1.623361e+12</td>\n",
       "      <td>21235.926341</td>\n",
       "      <td>316184.05000</td>\n",
       "      <td>8702.000000</td>\n",
       "      <td>839.318200</td>\n",
       "      <td>0.187878</td>\n",
       "    </tr>\n",
       "  </tbody>\n",
       "</table>\n",
       "</div>"
      ],
      "text/plain": [
       "         market_cap      norm_eps    open_price     pe_ratio    peg_ratio  \\\n",
       "count  1.170000e+03   1170.000000    1170.00000  1170.000000  1170.000000   \n",
       "mean   2.808373e+10     18.819623     375.61370    98.003548     6.292125   \n",
       "std    9.024509e+10    620.825098    9243.06184   486.224341    32.430275   \n",
       "min    5.022483e+08    -10.589353       2.31000     0.872483    -0.247800   \n",
       "25%    3.264005e+09     -0.013453      27.82750    15.410930     1.298425   \n",
       "50%    7.319056e+09      0.421972      58.86500    26.264007     2.156400   \n",
       "75%    2.140105e+10      1.039944     114.71750    51.468254     3.697375   \n",
       "max    1.623361e+12  21235.926341  316184.05000  8702.000000   839.318200   \n",
       "\n",
       "       sharpe_ratio  \n",
       "count   1170.000000  \n",
       "mean       0.025930  \n",
       "std        0.040583  \n",
       "min       -0.069130  \n",
       "25%       -0.002546  \n",
       "50%        0.022563  \n",
       "75%        0.050322  \n",
       "max        0.187878  "
      ]
     },
     "execution_count": 123,
     "metadata": {},
     "output_type": "execute_result"
    }
   ],
   "source": [
    "factor_data.describe()"
   ]
  },
  {
   "cell_type": "code",
   "execution_count": 124,
   "metadata": {},
   "outputs": [],
   "source": [
    "a,b=factor_data.shape"
   ]
  },
  {
   "cell_type": "code",
   "execution_count": 125,
   "metadata": {},
   "outputs": [
    {
     "data": {
      "text/html": [
       "<div>\n",
       "<table border=\"1\" class=\"dataframe\">\n",
       "  <thead>\n",
       "    <tr style=\"text-align: right;\">\n",
       "      <th></th>\n",
       "      <th>market_cap</th>\n",
       "      <th>norm_eps</th>\n",
       "      <th>open_price</th>\n",
       "      <th>pe_ratio</th>\n",
       "      <th>peg_ratio</th>\n",
       "      <th>sharpe_ratio</th>\n",
       "    </tr>\n",
       "  </thead>\n",
       "  <tbody>\n",
       "    <tr>\n",
       "      <th>Equity(53095 [ZM])</th>\n",
       "      <td>1.527398e+11</td>\n",
       "      <td>0.660000</td>\n",
       "      <td>572.33</td>\n",
       "      <td>679.772152</td>\n",
       "      <td>2.4442</td>\n",
       "      <td>0.187878</td>\n",
       "    </tr>\n",
       "    <tr>\n",
       "      <th>Equity(54057 [CARR])</th>\n",
       "      <td>2.878266e+10</td>\n",
       "      <td>0.300000</td>\n",
       "      <td>32.45</td>\n",
       "      <td>30.329471</td>\n",
       "      <td>3.6462</td>\n",
       "      <td>0.182925</td>\n",
       "    </tr>\n",
       "    <tr>\n",
       "      <th>Equity(39840 [TSLA])</th>\n",
       "      <td>3.938979e+11</td>\n",
       "      <td>0.112000</td>\n",
       "      <td>431.75</td>\n",
       "      <td>1019.178744</td>\n",
       "      <td>0.9974</td>\n",
       "      <td>0.177410</td>\n",
       "    </tr>\n",
       "    <tr>\n",
       "      <th>Equity(23710 [NLS])</th>\n",
       "      <td>8.034186e+08</td>\n",
       "      <td>0.489629</td>\n",
       "      <td>24.38</td>\n",
       "      <td>10.560000</td>\n",
       "      <td>1.2647</td>\n",
       "      <td>0.177270</td>\n",
       "    </tr>\n",
       "    <tr>\n",
       "      <th>Equity(14112 [NVAX])</th>\n",
       "      <td>6.027319e+09</td>\n",
       "      <td>-0.305067</td>\n",
       "      <td>102.70</td>\n",
       "      <td>72.916667</td>\n",
       "      <td>1.3218</td>\n",
       "      <td>0.164134</td>\n",
       "    </tr>\n",
       "  </tbody>\n",
       "</table>\n",
       "</div>"
      ],
      "text/plain": [
       "                        market_cap  norm_eps  open_price     pe_ratio  \\\n",
       "Equity(53095 [ZM])    1.527398e+11  0.660000      572.33   679.772152   \n",
       "Equity(54057 [CARR])  2.878266e+10  0.300000       32.45    30.329471   \n",
       "Equity(39840 [TSLA])  3.938979e+11  0.112000      431.75  1019.178744   \n",
       "Equity(23710 [NLS])   8.034186e+08  0.489629       24.38    10.560000   \n",
       "Equity(14112 [NVAX])  6.027319e+09 -0.305067      102.70    72.916667   \n",
       "\n",
       "                      peg_ratio  sharpe_ratio  \n",
       "Equity(53095 [ZM])       2.4442      0.187878  \n",
       "Equity(54057 [CARR])     3.6462      0.182925  \n",
       "Equity(39840 [TSLA])     0.9974      0.177410  \n",
       "Equity(23710 [NLS])      1.2647      0.177270  \n",
       "Equity(14112 [NVAX])     1.3218      0.164134  "
      ]
     },
     "execution_count": 125,
     "metadata": {},
     "output_type": "execute_result"
    }
   ],
   "source": [
    "factor_data.nlargest(5,'sharpe_ratio') # equities with largest sharpe_ratio"
   ]
  },
  {
   "cell_type": "code",
   "execution_count": 126,
   "metadata": {},
   "outputs": [
    {
     "data": {
      "text/html": [
       "<div>\n",
       "<table border=\"1\" class=\"dataframe\">\n",
       "  <thead>\n",
       "    <tr style=\"text-align: right;\">\n",
       "      <th></th>\n",
       "      <th>market_cap</th>\n",
       "      <th>norm_eps</th>\n",
       "      <th>open_price</th>\n",
       "      <th>pe_ratio</th>\n",
       "      <th>peg_ratio</th>\n",
       "      <th>sharpe_ratio</th>\n",
       "    </tr>\n",
       "  </thead>\n",
       "  <tbody>\n",
       "    <tr>\n",
       "      <th>Equity(22766 [CVI])</th>\n",
       "      <td>1.180229e+09</td>\n",
       "      <td>0.129910</td>\n",
       "      <td>11.55</td>\n",
       "      <td>16.771429</td>\n",
       "      <td>0.7142</td>\n",
       "      <td>-0.069130</td>\n",
       "    </tr>\n",
       "    <tr>\n",
       "      <th>Equity(8347 [XOM])</th>\n",
       "      <td>1.424915e+11</td>\n",
       "      <td>-0.260000</td>\n",
       "      <td>33.66</td>\n",
       "      <td>20.059524</td>\n",
       "      <td>1.9247</td>\n",
       "      <td>-0.067247</td>\n",
       "    </tr>\n",
       "    <tr>\n",
       "      <th>Equity(45559 [ESRT])</th>\n",
       "      <td>1.840456e+09</td>\n",
       "      <td>-0.049219</td>\n",
       "      <td>6.39</td>\n",
       "      <td>45.285714</td>\n",
       "      <td>3.1225</td>\n",
       "      <td>-0.067199</td>\n",
       "    </tr>\n",
       "    <tr>\n",
       "      <th>Equity(3620 [HFC])</th>\n",
       "      <td>3.175503e+09</td>\n",
       "      <td>0.964833</td>\n",
       "      <td>19.70</td>\n",
       "      <td>20.238095</td>\n",
       "      <td>8.5261</td>\n",
       "      <td>-0.065924</td>\n",
       "    </tr>\n",
       "    <tr>\n",
       "      <th>Equity(4751 [MDP])</th>\n",
       "      <td>5.279588e+08</td>\n",
       "      <td>-3.732976</td>\n",
       "      <td>11.52</td>\n",
       "      <td>26.295455</td>\n",
       "      <td>1.6197</td>\n",
       "      <td>-0.061376</td>\n",
       "    </tr>\n",
       "  </tbody>\n",
       "</table>\n",
       "</div>"
      ],
      "text/plain": [
       "                        market_cap  norm_eps  open_price   pe_ratio  \\\n",
       "Equity(22766 [CVI])   1.180229e+09  0.129910       11.55  16.771429   \n",
       "Equity(8347 [XOM])    1.424915e+11 -0.260000       33.66  20.059524   \n",
       "Equity(45559 [ESRT])  1.840456e+09 -0.049219        6.39  45.285714   \n",
       "Equity(3620 [HFC])    3.175503e+09  0.964833       19.70  20.238095   \n",
       "Equity(4751 [MDP])    5.279588e+08 -3.732976       11.52  26.295455   \n",
       "\n",
       "                      peg_ratio  sharpe_ratio  \n",
       "Equity(22766 [CVI])      0.7142     -0.069130  \n",
       "Equity(8347 [XOM])       1.9247     -0.067247  \n",
       "Equity(45559 [ESRT])     3.1225     -0.067199  \n",
       "Equity(3620 [HFC])       8.5261     -0.065924  \n",
       "Equity(4751 [MDP])       1.6197     -0.061376  "
      ]
     },
     "execution_count": 126,
     "metadata": {},
     "output_type": "execute_result"
    }
   ],
   "source": [
    "factor_data.nsmallest(5,'sharpe_ratio') # equities with smallest sharpe_ratio"
   ]
  },
  {
   "cell_type": "markdown",
   "metadata": {},
   "source": [
    "Visualizing Market Capitalization vs Market Open Price"
   ]
  },
  {
   "cell_type": "code",
   "execution_count": 127,
   "metadata": {},
   "outputs": [],
   "source": [
    "rng = np.random.RandomState(0)\n",
    "colors = rng.rand(a)"
   ]
  },
  {
   "cell_type": "code",
   "execution_count": 128,
   "metadata": {
    "scrolled": true
   },
   "outputs": [
    {
     "data": {
      "text/plain": [
       "Text(0, 0.5, 'open_price')"
      ]
     },
     "execution_count": 128,
     "metadata": {},
     "output_type": "execute_result"
    },
    {
     "data": {
      "image/png": "[encoded data removed]",
      "text/plain": [
       "<Figure size 1008x576 with 2 Axes>"
      ]
     },
     "metadata": {},
     "output_type": "display_data"
    }
   ],
   "source": [
    "plt.scatter(factor_data[\"market_cap\"],factor_data[\"open_price\"],c=colors)\n",
    "plt.colorbar()\n",
    "plt.xlabel(\"market_cap\")\n",
    "plt.ylabel(\"open_price\")"
   ]
  },
  {
   "cell_type": "markdown",
   "metadata": {},
   "source": [
    "Visualizing Sharpe Ratio vs Open Price"
   ]
  },
  {
   "cell_type": "code",
   "execution_count": 129,
   "metadata": {
    "scrolled": true
   },
   "outputs": [
    {
     "data": {
      "text/plain": [
       "Text(0, 0.5, 'open_price')"
      ]
     },
     "execution_count": 129,
     "metadata": {},
     "output_type": "execute_result"
    },
    {
     "data": {
      "image/png": "[encoded data removed]",
      "text/plain": [
       "<Figure size 1008x576 with 2 Axes>"
      ]
     },
     "metadata": {},
     "output_type": "display_data"
    }
   ],
   "source": [
    "plt.scatter(factor_data[\"sharpe_ratio\"],factor_data[\"open_price\"], c=colors)\n",
    "plt.colorbar()\n",
    "plt.xlabel(\"sharpe_ratio\")\n",
    "plt.ylabel(\"open_price\")"
   ]
  },
  {
   "cell_type": "markdown",
   "metadata": {},
   "source": [
    "Visualizing PE Ratio vs Open Price"
   ]
  },
  {
   "cell_type": "code",
   "execution_count": 130,
   "metadata": {},
   "outputs": [
    {
     "data": {
      "text/plain": [
       "Text(0, 0.5, 'open_price')"
      ]
     },
     "execution_count": 130,
     "metadata": {},
     "output_type": "execute_result"
    },
    {
     "data": {
      "image/png": "[encoded data removed]",
      "text/plain": [
       "<Figure size 1008x576 with 2 Axes>"
      ]
     },
     "metadata": {},
     "output_type": "display_data"
    }
   ],
   "source": [
    "plt.scatter(factor_data[\"pe_ratio\"],factor_data[\"open_price\"], c=colors)\n",
    "plt.colorbar()\n",
    "plt.xlabel(\"pe_ratio\")\n",
    "plt.ylabel(\"open_price\")"
   ]
  },
  {
   "cell_type": "markdown",
   "metadata": {},
   "source": [
    "Visualizing PEG Ratio vs Open Price"
   ]
  },
  {
   "cell_type": "code",
   "execution_count": 131,
   "metadata": {},
   "outputs": [
    {
     "data": {
      "text/plain": [
       "Text(0, 0.5, 'open_price')"
      ]
     },
     "execution_count": 131,
     "metadata": {},
     "output_type": "execute_result"
    },
    {
     "data": {
      "image/png": "[encoded data removed]",
      "text/plain": [
       "<Figure size 1008x576 with 2 Axes>"
      ]
     },
     "metadata": {},
     "output_type": "display_data"
    }
   ],
   "source": [
    "plt.scatter(factor_data[\"peg_ratio\"],factor_data[\"open_price\"], c=colors)\n",
    "plt.colorbar()\n",
    "plt.xlabel(\"peg_ratio\")\n",
    "plt.ylabel(\"open_price\")"
   ]
  },
  {
   "cell_type": "markdown",
   "metadata": {},
   "source": [
    "##Visualizing Postive Sentiment Percentage (most popular stocks on Twitter) vs Open Price"
   ]
  },
  {
   "cell_type": "code",
   "execution_count": 132,
   "metadata": {
    "scrolled": true
   },
   "outputs": [],
   "source": [
    "#plt.scatter(factor_data[\"positive_sentiment_pct\"],factor_data[\"open_price\"], c=colors)\n",
    "#plt.colorbar()\n",
    "#plt.xlabel(\"positive_sentiment_pct\")\n",
    "#plt.ylabel(\"open_price\")"
   ]
  },
  {
   "cell_type": "markdown",
   "metadata": {},
   "source": [
    "##Visualizing 5-day simple moving average sentiment factor vs Open Price"
   ]
  },
  {
   "cell_type": "code",
   "execution_count": 133,
   "metadata": {
    "scrolled": true
   },
   "outputs": [],
   "source": [
    "#plt.scatter(factor_data[\"mean_sentiment_5day\"],factor_data[\"open_price\"], c=colors)\n",
    "#plt.colorbar()\n",
    "#plt.xlabel(\"mean_sentiment_5day\")\n",
    "#plt.ylabel(\"open_price\")"
   ]
  },
  {
   "cell_type": "code",
   "execution_count": 134,
   "metadata": {},
   "outputs": [],
   "source": [
    "#factor_data = factor_data[factor_data['sharpe_ratio']>=0.1]"
   ]
  },
  {
   "cell_type": "markdown",
   "metadata": {},
   "source": [
    "# The Solution: implement a data science solution to the problem you are trying to solve."
   ]
  },
  {
   "cell_type": "markdown",
   "metadata": {},
   "source": [
    "Briefly describe the idea of your solution to the problem in the following cell:"
   ]
  },
  {
   "cell_type": "markdown",
   "metadata": {},
   "source": [
    "What if we were to fundamentally transform the way hedge funds operate? \n",
    "If we could find a way for hedge funds to invest in equities that are less risky, but still provide a higher return, we are helping investors eliminate a part or all of their risk.\n",
    "\n",
    "Our project aims at solving this problem by performing a risk analysis on several equities using various factors used to measure the financial health of an equity.\n",
    "We do so by analyzing the P/E ratio, P/E growth ratio, EPS for several past quarters, market capitalization, Sharpe ratio and market sentiment through Twitter.\n",
    "\n",
    "All the ratios are calculated for an adjusted closing price of an equity. We use a Morningstar fundamental data field called normalized_basic_eps since it is a more accurate representation of a company's \n",
    "recent quaterly earnings. The normalized EPS excludes one-time and unusual expenses and acts as a measure for a company's true earnings.\n",
    "\n",
    "By relying on the accuracy of the factors used to measure a company's fundamentals, we perform due diligence for the investor, reducing a part of the risk.\n"
   ]
  },
  {
   "cell_type": "markdown",
   "metadata": {},
   "source": [
    "Write codes to implement the solution in python:"
   ]
  },
  {
   "cell_type": "code",
   "execution_count": 135,
   "metadata": {},
   "outputs": [],
   "source": [
    "from sklearn.tree import DecisionTreeRegressor # Import Decision Tree for modelling"
   ]
  },
  {
   "cell_type": "code",
   "execution_count": 136,
   "metadata": {
    "scrolled": false
   },
   "outputs": [
    {
     "data": {
      "text/plain": [
       "market_cap      0\n",
       "norm_eps        0\n",
       "open_price      0\n",
       "pe_ratio        0\n",
       "peg_ratio       0\n",
       "sharpe_ratio    0\n",
       "dtype: int64"
      ]
     },
     "execution_count": 136,
     "metadata": {},
     "output_type": "execute_result"
    }
   ],
   "source": [
    "factor_data.isnull().sum() #check for null values"
   ]
  },
  {
   "cell_type": "markdown",
   "metadata": {},
   "source": [
    "Heat Map to find correlation between factors"
   ]
  },
  {
   "cell_type": "code",
   "execution_count": 137,
   "metadata": {
    "scrolled": true
   },
   "outputs": [
    {
     "data": {
      "image/png": "[encoded data removed]",
      "text/plain": [
       "<Figure size 1224x576 with 2 Axes>"
      ]
     },
     "metadata": {},
     "output_type": "display_data"
    }
   ],
   "source": [
    "import seaborn as sns\n",
    "plt.figure(1, figsize = (17,8))\n",
    "cor = sns.heatmap(factor_data.corr(), annot = True)"
   ]
  },
  {
   "cell_type": "markdown",
   "metadata": {},
   "source": [
    "Selecting features for the prediction model"
   ]
  },
  {
   "cell_type": "code",
   "execution_count": 138,
   "metadata": {},
   "outputs": [],
   "source": [
    "X= factor_data[['norm_eps','sharpe_ratio','market_cap','peg_ratio','pe_ratio']]\n",
    "y= factor_data['open_price']"
   ]
  },
  {
   "cell_type": "code",
   "execution_count": 139,
   "metadata": {},
   "outputs": [
    {
     "name": "stdout",
     "output_type": "stream",
     "text": [
      "(1170, 5)\n",
      "(1170,)\n"
     ]
    }
   ],
   "source": [
    "print(X.shape)\n",
    "print(y.shape)"
   ]
  },
  {
   "cell_type": "code",
   "execution_count": 140,
   "metadata": {},
   "outputs": [],
   "source": [
    "#Set the training and testing variables\n",
    "from sklearn.cross_validation import train_test_split\n",
    "X_train, X_test, y_train, y_test = train_test_split(X,y,test_size = 0.25, random_state=0)\n",
    "\n",
    "X_train = X_train[:]\n",
    "X_test = X_test[:]"
   ]
  },
  {
   "cell_type": "code",
   "execution_count": 141,
   "metadata": {},
   "outputs": [
    {
     "name": "stdout",
     "output_type": "stream",
     "text": [
      "(877, 5) (877,)\n"
     ]
    }
   ],
   "source": [
    "print(X_train.shape, y_train.shape)"
   ]
  },
  {
   "cell_type": "code",
   "execution_count": 142,
   "metadata": {},
   "outputs": [],
   "source": [
    "#Regression \n",
    "reg = DecisionTreeRegressor(random_state = 0)"
   ]
  },
  {
   "cell_type": "code",
   "execution_count": 143,
   "metadata": {},
   "outputs": [
    {
     "name": "stderr",
     "output_type": "stream",
     "text": [
      "/venvs/py35/lib/python3.5/site-packages/sklearn/base.py:175: DeprecationWarning: inspect.getargspec() is deprecated, use inspect.signature() instead\n",
      "  args, varargs, kw, default = inspect.getargspec(init)\n"
     ]
    },
    {
     "data": {
      "text/plain": [
       "DecisionTreeRegressor(criterion='mse', max_depth=None, max_features=None,\n",
       "           max_leaf_nodes=None, min_samples_leaf=1, min_samples_split=2,\n",
       "           min_weight_fraction_leaf=0.0, random_state=0, splitter='best')"
      ]
     },
     "execution_count": 143,
     "metadata": {},
     "output_type": "execute_result"
    }
   ],
   "source": [
    "reg.fit(X_train, y_train)"
   ]
  },
  {
   "cell_type": "code",
   "execution_count": 144,
   "metadata": {},
   "outputs": [],
   "source": [
    "y_pred = reg.predict(X_test)"
   ]
  },
  {
   "cell_type": "markdown",
   "metadata": {},
   "source": [
    "# Results: summarize and visualize the results discovered from the analysis\n",
    "\n",
    "Please use figures, tables, or videos to communicate the results with the audience.\n"
   ]
  },
  {
   "cell_type": "code",
   "execution_count": 145,
   "metadata": {},
   "outputs": [
    {
     "data": {
      "text/plain": [
       "Index([ Equity(34440 [CXO]), Equity(32714 [LDOS]),  Equity(18113 [URI]),\n",
       "        Equity(6295 [QCOM]),   Equity(8229 [WMT]),   Equity(5066 [MSM]),\n",
       "       Equity(40399 [IPHI]),  Equity(16059 [NUS]),  Equity(11386 [SSD]),\n",
       "       Equity(43981 [NCLH]),\n",
       "       ...\n",
       "        Equity(24838 [ALL]), Equity(44433 [TMHC]), Equity(20947 [KTOS]),\n",
       "        Equity(16358 [SSB]),  Equity(10594 [EMN]),   Equity(4668 [MAT]),\n",
       "         Equity(2293 [DRE]),  Equity(39958 [ENV]),  Equity(50716 [DXC]),\n",
       "        Equity(5767 [PAYX])],\n",
       "      dtype='object', length=293)"
      ]
     },
     "execution_count": 145,
     "metadata": {},
     "output_type": "execute_result"
    }
   ],
   "source": [
    "y_test_index = y_test.index\n",
    "y_test_index"
   ]
  },
  {
   "cell_type": "code",
   "execution_count": 146,
   "metadata": {},
   "outputs": [
    {
     "data": {
      "text/html": [
       "<div>\n",
       "<table border=\"1\" class=\"dataframe\">\n",
       "  <thead>\n",
       "    <tr style=\"text-align: right;\">\n",
       "      <th></th>\n",
       "      <th>0</th>\n",
       "    </tr>\n",
       "  </thead>\n",
       "  <tbody>\n",
       "    <tr>\n",
       "      <th>Equity(34440 [CXO])</th>\n",
       "      <td>29.350000</td>\n",
       "    </tr>\n",
       "    <tr>\n",
       "      <th>Equity(32714 [LDOS])</th>\n",
       "      <td>87.620000</td>\n",
       "    </tr>\n",
       "    <tr>\n",
       "      <th>Equity(18113 [URI])</th>\n",
       "      <td>75.970000</td>\n",
       "    </tr>\n",
       "    <tr>\n",
       "      <th>Equity(6295 [QCOM])</th>\n",
       "      <td>113.670000</td>\n",
       "    </tr>\n",
       "    <tr>\n",
       "      <th>Equity(8229 [WMT])</th>\n",
       "      <td>170.500000</td>\n",
       "    </tr>\n",
       "    <tr>\n",
       "      <th>Equity(5066 [MSM])</th>\n",
       "      <td>67.810000</td>\n",
       "    </tr>\n",
       "    <tr>\n",
       "      <th>Equity(40399 [IPHI])</th>\n",
       "      <td>96.590000</td>\n",
       "    </tr>\n",
       "    <tr>\n",
       "      <th>Equity(16059 [NUS])</th>\n",
       "      <td>75.000000</td>\n",
       "    </tr>\n",
       "    <tr>\n",
       "      <th>Equity(11386 [SSD])</th>\n",
       "      <td>85.810000</td>\n",
       "    </tr>\n",
       "    <tr>\n",
       "      <th>Equity(43981 [NCLH])</th>\n",
       "      <td>12.750000</td>\n",
       "    </tr>\n",
       "    <tr>\n",
       "      <th>Equity(51259 [ANGI])</th>\n",
       "      <td>191.950000</td>\n",
       "    </tr>\n",
       "    <tr>\n",
       "      <th>Equity(22316 [GRMN])</th>\n",
       "      <td>67.300000</td>\n",
       "    </tr>\n",
       "    <tr>\n",
       "      <th>Equity(5643 [OLN])</th>\n",
       "      <td>21.970000</td>\n",
       "    </tr>\n",
       "    <tr>\n",
       "      <th>Equity(21724 [ARNA])</th>\n",
       "      <td>22.980000</td>\n",
       "    </tr>\n",
       "    <tr>\n",
       "      <th>Equity(12616 [ACIW])</th>\n",
       "      <td>73.340000</td>\n",
       "    </tr>\n",
       "    <tr>\n",
       "      <th>Equity(50428 [AA])</th>\n",
       "      <td>21.970000</td>\n",
       "    </tr>\n",
       "    <tr>\n",
       "      <th>Equity(34395 [LULU])</th>\n",
       "      <td>128.000000</td>\n",
       "    </tr>\n",
       "    <tr>\n",
       "      <th>Equity(2968 [NEE])</th>\n",
       "      <td>377.960000</td>\n",
       "    </tr>\n",
       "    <tr>\n",
       "      <th>Equity(35359 [DAN])</th>\n",
       "      <td>83.120000</td>\n",
       "    </tr>\n",
       "    <tr>\n",
       "      <th>Equity(128 [ADM])</th>\n",
       "      <td>145.930000</td>\n",
       "    </tr>\n",
       "    <tr>\n",
       "      <th>Equity(239 [AIG])</th>\n",
       "      <td>14.420000</td>\n",
       "    </tr>\n",
       "    <tr>\n",
       "      <th>Equity(16348 [DGX])</th>\n",
       "      <td>53.140000</td>\n",
       "    </tr>\n",
       "    <tr>\n",
       "      <th>Equity(110 [RAMP])</th>\n",
       "      <td>185.059000</td>\n",
       "    </tr>\n",
       "    <tr>\n",
       "      <th>Equity(52968 [FOXA])</th>\n",
       "      <td>52.490000</td>\n",
       "    </tr>\n",
       "    <tr>\n",
       "      <th>Equity(38965 [FTNT])</th>\n",
       "      <td>105.890000</td>\n",
       "    </tr>\n",
       "    <tr>\n",
       "      <th>Equity(7041 [TRV])</th>\n",
       "      <td>12.800000</td>\n",
       "    </tr>\n",
       "    <tr>\n",
       "      <th>Equity(12087 [O])</th>\n",
       "      <td>37.150000</td>\n",
       "    </tr>\n",
       "    <tr>\n",
       "      <th>Equity(36930 [DISC_A])</th>\n",
       "      <td>30.310000</td>\n",
       "    </tr>\n",
       "    <tr>\n",
       "      <th>Equity(24787 [GPI])</th>\n",
       "      <td>98.030000</td>\n",
       "    </tr>\n",
       "    <tr>\n",
       "      <th>Equity(19249 [RRC])</th>\n",
       "      <td>13.800000</td>\n",
       "    </tr>\n",
       "    <tr>\n",
       "      <th>...</th>\n",
       "      <td>...</td>\n",
       "    </tr>\n",
       "    <tr>\n",
       "      <th>Equity(23718 [PNFP])</th>\n",
       "      <td>44.650000</td>\n",
       "    </tr>\n",
       "    <tr>\n",
       "      <th>Equity(21713 [WPC])</th>\n",
       "      <td>65.940000</td>\n",
       "    </tr>\n",
       "    <tr>\n",
       "      <th>Equity(28016 [CMG])</th>\n",
       "      <td>261.410000</td>\n",
       "    </tr>\n",
       "    <tr>\n",
       "      <th>Equity(39063 [KAR])</th>\n",
       "      <td>24.800000</td>\n",
       "    </tr>\n",
       "    <tr>\n",
       "      <th>Equity(50735 [AYX])</th>\n",
       "      <td>108.410000</td>\n",
       "    </tr>\n",
       "    <tr>\n",
       "      <th>Equity(24785 [PLD])</th>\n",
       "      <td>74.900000</td>\n",
       "    </tr>\n",
       "    <tr>\n",
       "      <th>Equity(17702 [NLY])</th>\n",
       "      <td>110.350000</td>\n",
       "    </tr>\n",
       "    <tr>\n",
       "      <th>Equity(46843 [ARES])</th>\n",
       "      <td>64.100000</td>\n",
       "    </tr>\n",
       "    <tr>\n",
       "      <th>Equity(20028 [TREX])</th>\n",
       "      <td>84.730000</td>\n",
       "    </tr>\n",
       "    <tr>\n",
       "      <th>Equity(2404 [EAT])</th>\n",
       "      <td>55.670000</td>\n",
       "    </tr>\n",
       "    <tr>\n",
       "      <th>Equity(8352 [XRAY])</th>\n",
       "      <td>28.710000</td>\n",
       "    </tr>\n",
       "    <tr>\n",
       "      <th>Equity(7681 [TYL])</th>\n",
       "      <td>286.850000</td>\n",
       "    </tr>\n",
       "    <tr>\n",
       "      <th>Equity(20740 [JACK])</th>\n",
       "      <td>21.350000</td>\n",
       "    </tr>\n",
       "    <tr>\n",
       "      <th>Equity(50361 [ADSW])</th>\n",
       "      <td>13.820000</td>\n",
       "    </tr>\n",
       "    <tr>\n",
       "      <th>Equity(62 [ABT])</th>\n",
       "      <td>122.500000</td>\n",
       "    </tr>\n",
       "    <tr>\n",
       "      <th>Equity(11361 [PENN])</th>\n",
       "      <td>125.130000</td>\n",
       "    </tr>\n",
       "    <tr>\n",
       "      <th>Equity(21839 [VZ])</th>\n",
       "      <td>77.750000</td>\n",
       "    </tr>\n",
       "    <tr>\n",
       "      <th>Equity(3661 [EHC])</th>\n",
       "      <td>17.970000</td>\n",
       "    </tr>\n",
       "    <tr>\n",
       "      <th>Equity(24865 [CHH])</th>\n",
       "      <td>49.850000</td>\n",
       "    </tr>\n",
       "    <tr>\n",
       "      <th>Equity(40430 [GM])</th>\n",
       "      <td>65.030000</td>\n",
       "    </tr>\n",
       "    <tr>\n",
       "      <th>Equity(24838 [ALL])</th>\n",
       "      <td>58.543281</td>\n",
       "    </tr>\n",
       "    <tr>\n",
       "      <th>Equity(44433 [TMHC])</th>\n",
       "      <td>58.870000</td>\n",
       "    </tr>\n",
       "    <tr>\n",
       "      <th>Equity(20947 [KTOS])</th>\n",
       "      <td>11.120000</td>\n",
       "    </tr>\n",
       "    <tr>\n",
       "      <th>Equity(16358 [SSB])</th>\n",
       "      <td>48.250000</td>\n",
       "    </tr>\n",
       "    <tr>\n",
       "      <th>Equity(10594 [EMN])</th>\n",
       "      <td>87.580000</td>\n",
       "    </tr>\n",
       "    <tr>\n",
       "      <th>Equity(4668 [MAT])</th>\n",
       "      <td>33.950000</td>\n",
       "    </tr>\n",
       "    <tr>\n",
       "      <th>Equity(2293 [DRE])</th>\n",
       "      <td>95.960000</td>\n",
       "    </tr>\n",
       "    <tr>\n",
       "      <th>Equity(39958 [ENV])</th>\n",
       "      <td>129.890000</td>\n",
       "    </tr>\n",
       "    <tr>\n",
       "      <th>Equity(50716 [DXC])</th>\n",
       "      <td>9.600000</td>\n",
       "    </tr>\n",
       "    <tr>\n",
       "      <th>Equity(5767 [PAYX])</th>\n",
       "      <td>114.750000</td>\n",
       "    </tr>\n",
       "  </tbody>\n",
       "</table>\n",
       "<p>293 rows × 1 columns</p>\n",
       "</div>"
      ],
      "text/plain": [
       "                                 0\n",
       "Equity(34440 [CXO])      29.350000\n",
       "Equity(32714 [LDOS])     87.620000\n",
       "Equity(18113 [URI])      75.970000\n",
       "Equity(6295 [QCOM])     113.670000\n",
       "Equity(8229 [WMT])      170.500000\n",
       "Equity(5066 [MSM])       67.810000\n",
       "Equity(40399 [IPHI])     96.590000\n",
       "Equity(16059 [NUS])      75.000000\n",
       "Equity(11386 [SSD])      85.810000\n",
       "Equity(43981 [NCLH])     12.750000\n",
       "Equity(51259 [ANGI])    191.950000\n",
       "Equity(22316 [GRMN])     67.300000\n",
       "Equity(5643 [OLN])       21.970000\n",
       "Equity(21724 [ARNA])     22.980000\n",
       "Equity(12616 [ACIW])     73.340000\n",
       "Equity(50428 [AA])       21.970000\n",
       "Equity(34395 [LULU])    128.000000\n",
       "Equity(2968 [NEE])      377.960000\n",
       "Equity(35359 [DAN])      83.120000\n",
       "Equity(128 [ADM])       145.930000\n",
       "Equity(239 [AIG])        14.420000\n",
       "Equity(16348 [DGX])      53.140000\n",
       "Equity(110 [RAMP])      185.059000\n",
       "Equity(52968 [FOXA])     52.490000\n",
       "Equity(38965 [FTNT])    105.890000\n",
       "Equity(7041 [TRV])       12.800000\n",
       "Equity(12087 [O])        37.150000\n",
       "Equity(36930 [DISC_A])   30.310000\n",
       "Equity(24787 [GPI])      98.030000\n",
       "Equity(19249 [RRC])      13.800000\n",
       "...                            ...\n",
       "Equity(23718 [PNFP])     44.650000\n",
       "Equity(21713 [WPC])      65.940000\n",
       "Equity(28016 [CMG])     261.410000\n",
       "Equity(39063 [KAR])      24.800000\n",
       "Equity(50735 [AYX])     108.410000\n",
       "Equity(24785 [PLD])      74.900000\n",
       "Equity(17702 [NLY])     110.350000\n",
       "Equity(46843 [ARES])     64.100000\n",
       "Equity(20028 [TREX])     84.730000\n",
       "Equity(2404 [EAT])       55.670000\n",
       "Equity(8352 [XRAY])      28.710000\n",
       "Equity(7681 [TYL])      286.850000\n",
       "Equity(20740 [JACK])     21.350000\n",
       "Equity(50361 [ADSW])     13.820000\n",
       "Equity(62 [ABT])        122.500000\n",
       "Equity(11361 [PENN])    125.130000\n",
       "Equity(21839 [VZ])       77.750000\n",
       "Equity(3661 [EHC])       17.970000\n",
       "Equity(24865 [CHH])      49.850000\n",
       "Equity(40430 [GM])       65.030000\n",
       "Equity(24838 [ALL])      58.543281\n",
       "Equity(44433 [TMHC])     58.870000\n",
       "Equity(20947 [KTOS])     11.120000\n",
       "Equity(16358 [SSB])      48.250000\n",
       "Equity(10594 [EMN])      87.580000\n",
       "Equity(4668 [MAT])       33.950000\n",
       "Equity(2293 [DRE])       95.960000\n",
       "Equity(39958 [ENV])     129.890000\n",
       "Equity(50716 [DXC])       9.600000\n",
       "Equity(5767 [PAYX])     114.750000\n",
       "\n",
       "[293 rows x 1 columns]"
      ]
     },
     "execution_count": 146,
     "metadata": {},
     "output_type": "execute_result"
    }
   ],
   "source": [
    "y_pred_df = pd.DataFrame(y_pred, index = y_test_index)\n",
    "y_pred_df"
   ]
  },
  {
   "cell_type": "code",
   "execution_count": 147,
   "metadata": {},
   "outputs": [
    {
     "data": {
      "text/plain": [
       "Equity(34440 [CXO])       -18.220000\n",
       "Equity(32714 [LDOS])       40.050000\n",
       "Equity(18113 [URI])        28.400000\n",
       "Equity(6295 [QCOM])        66.100000\n",
       "Equity(8229 [WMT])        122.930000\n",
       "Equity(5066 [MSM])         20.240000\n",
       "Equity(40399 [IPHI])       49.020000\n",
       "Equity(16059 [NUS])        27.430000\n",
       "Equity(11386 [SSD])        38.240000\n",
       "Equity(43981 [NCLH])      -34.820000\n",
       "Equity(51259 [ANGI])      144.380000\n",
       "Equity(22316 [GRMN])       19.730000\n",
       "Equity(5643 [OLN])        -25.600000\n",
       "Equity(21724 [ARNA])      -24.590000\n",
       "Equity(12616 [ACIW])       25.770000\n",
       "Equity(50428 [AA])        -25.600000\n",
       "Equity(34395 [LULU])       80.430000\n",
       "Equity(2968 [NEE])        330.390000\n",
       "Equity(35359 [DAN])        35.550000\n",
       "Equity(128 [ADM])          98.360000\n",
       "Equity(239 [AIG])         -33.150000\n",
       "Equity(16348 [DGX])         5.570000\n",
       "Equity(110 [RAMP])        137.489000\n",
       "Equity(52968 [FOXA])        4.920000\n",
       "Equity(38965 [FTNT])       58.320000\n",
       "Equity(7041 [TRV])        -34.770000\n",
       "Equity(12087 [O])         -10.420000\n",
       "Equity(36930 [DISC_A])    -17.260000\n",
       "Equity(24787 [GPI])        50.460000\n",
       "Equity(19249 [RRC])       -33.770000\n",
       "                             ...    \n",
       "Equity(23718 [PNFP])       -2.920000\n",
       "Equity(21713 [WPC])        18.370000\n",
       "Equity(28016 [CMG])       213.840000\n",
       "Equity(39063 [KAR])       -22.770000\n",
       "Equity(50735 [AYX])        60.840000\n",
       "Equity(24785 [PLD])        27.330000\n",
       "Equity(17702 [NLY])        62.780000\n",
       "Equity(46843 [ARES])       16.530000\n",
       "Equity(20028 [TREX])       37.160000\n",
       "Equity(2404 [EAT])          8.100000\n",
       "Equity(8352 [XRAY])       -18.860000\n",
       "Equity(7681 [TYL])        239.280000\n",
       "Equity(20740 [JACK])      -26.220000\n",
       "Equity(50361 [ADSW])      -33.750000\n",
       "Equity(62 [ABT])           74.930000\n",
       "Equity(11361 [PENN])       77.560000\n",
       "Equity(21839 [VZ])         30.180000\n",
       "Equity(3661 [EHC])        -29.600000\n",
       "Equity(24865 [CHH])         2.280000\n",
       "Equity(40430 [GM])         17.460000\n",
       "Equity(24838 [ALL])        10.973281\n",
       "Equity(44433 [TMHC])       11.300000\n",
       "Equity(20947 [KTOS])      -36.450000\n",
       "Equity(16358 [SSB])         0.680000\n",
       "Equity(10594 [EMN])        40.010000\n",
       "Equity(4668 [MAT])        -13.620000\n",
       "Equity(2293 [DRE])         48.390000\n",
       "Equity(39958 [ENV])        82.320000\n",
       "Equity(50716 [DXC])       -37.970000\n",
       "Equity(5767 [PAYX])        67.180000\n",
       "Name: 0, dtype: float64"
      ]
     },
     "execution_count": 147,
     "metadata": {},
     "output_type": "execute_result"
    }
   ],
   "source": [
    "#Difference between predicted price and actual price of an equity\n",
    "diff = y_pred_df[0] - y_test[0]\n",
    "diff"
   ]
  },
  {
   "cell_type": "code",
   "execution_count": 148,
   "metadata": {},
   "outputs": [
    {
     "name": "stdout",
     "output_type": "stream",
     "text": [
      "Mean Absolute Error: 60.7041014295\n",
      "Mean Squared Error: 22365.3507847\n",
      "Root Mean Squared Error: 149.550495769\n"
     ]
    }
   ],
   "source": [
    "#Accuracy Measurement\n",
    "\n",
    "from sklearn import metrics\n",
    "print('Mean Absolute Error:', metrics.mean_absolute_error(y_test, y_pred))\n",
    "print('Mean Squared Error:', metrics.mean_squared_error(y_test, y_pred))\n",
    "print('Root Mean Squared Error:', np.sqrt(metrics.mean_squared_error(y_test, y_pred)))"
   ]
  },
  {
   "cell_type": "code",
   "execution_count": 149,
   "metadata": {
    "scrolled": true
   },
   "outputs": [
    {
     "data": {
      "text/plain": [
       "<matplotlib.collections.PathCollection at 0x7f27f4055940>"
      ]
     },
     "execution_count": 149,
     "metadata": {},
     "output_type": "execute_result"
    },
    {
     "data": {
      "image/png": "[encoded data removed]",
      "text/plain": [
       "<Figure size 1008x576 with 1 Axes>"
      ]
     },
     "metadata": {},
     "output_type": "display_data"
    }
   ],
   "source": [
    "plt.scatter(y_test, diff)"
   ]
  },
  {
   "cell_type": "markdown",
   "metadata": {},
   "source": [
    "# Future Works\n",
    "\n",
    "- The developer needs to be aware of the Bias in the training model, while he improves on accuracy.\n",
    "\n",
    "- Because Sharpe Ratio uses Standard Deviation of returns in the denominator to evaluate portfolio risks, the assumptions is, the returns are normally distributed. However, returns in the financial market are skewed away from the average because of a large number of surprising drops or spikes in prices. Even then, Sharpe Ratio can be skewed away by portfolio managers for higher returns.  \n",
    "  \n"
   ]
  },
  {
   "cell_type": "markdown",
   "metadata": {},
   "source": [
    "\n",
    "# Done\n",
    "\n",
    "All set! \n",
    "\n",
    "**What do you need to submit?**\n",
    "\n",
    "* **Notebook File**: Save this Jupyter notebook, and find the notebook file in your folder (for example, \"filename.ipynb\"). This is the file you need to submit. Please make sure all the plotted tables and figures are in the notebook. If you used \"jupyter notebook --pylab=inline\" to open the notebook, all the figures and tables should have shown up in the notebook.\n",
    "\n",
    "* **PPT Slides**: please prepare PPT slides to present about the case study . Each team present their case studies in class for 7 minutes.\n",
    "\n",
    "Please compress all the files in a zipped file.\n",
    "\n",
    "\n",
    "**How to submit:**\n",
    "\n",
    "        Please submit through Canvas, in the Assignment \"Case Study 2\".\n",
    "        \n",
    "**Note: Each team only needs to submit one submission in Canvas**"
   ]
  },
  {
   "cell_type": "code",
   "execution_count": null,
   "metadata": {},
   "outputs": [],
   "source": []
  }
 ],
 "metadata": {
  "kernelspec": {
   "display_name": "Python 3",
   "language": "python",
   "name": "python3"
  },
  "language_info": {
   "codemirror_mode": {
    "name": "ipython",
    "version": 3
   },
   "file_extension": ".py",
   "mimetype": "text/x-python",
   "name": "python",
   "nbconvert_exporter": "python",
   "pygments_lexer": "ipython3",
   "version": "3.7.6"
  }
 },
 "nbformat": 4,
 "nbformat_minor": 1
}
